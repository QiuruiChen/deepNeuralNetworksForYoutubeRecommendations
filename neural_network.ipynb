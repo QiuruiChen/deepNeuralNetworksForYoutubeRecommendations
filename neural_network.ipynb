{
 "cells": [
  {
   "cell_type": "code",
   "execution_count": 1,
   "metadata": {},
   "outputs": [
    {
     "name": "stdout",
     "output_type": "stream",
     "text": [
      "2.1.0\n"
     ]
    }
   ],
   "source": [
    "import pandas as pd\n",
    "import numpy as np\n",
    "import tensorflow as tf\n",
    "from tensorflow.keras.models import Sequential\n",
    "from tensorflow.keras.layers import Dropout, Dense, Conv2D, MaxPool2D, Flatten\n",
    "from tensorflow.keras.callbacks import TensorBoard\n",
    "import matplotlib.pyplot as plt\n",
    "import seaborn as sns\n",
    "import random\n",
    "import time\n",
    "import os\n",
    "from transformers import BertTokenizer, TFBertModel\n",
    "print(tf.__version__)"
   ]
  },
  {
   "cell_type": "code",
   "execution_count": 2,
   "metadata": {},
   "outputs": [
    {
     "name": "stdout",
     "output_type": "stream",
     "text": [
      "GPUs Available:  0\n"
     ]
    }
   ],
   "source": [
    "gpus = tf.config.experimental.list_physical_devices('GPU')\n",
    "print(\"GPUs Available: \", len(gpus))\n",
    "if len(gpus)>0:\n",
    "    tf.config.experimental.set_memory_growth(gpus[0], True)"
   ]
  },
  {
   "cell_type": "markdown",
   "metadata": {},
   "source": [
    "## insert data\n",
    "### inspect the data\n",
    "\n",
    "- multiclass claasification, implicite feedback\n",
    "- negative sampling\n",
    "- watched history, the user's gepgraphic region, normalzied feature: [0-1] user's gender, logged-in tstae, age; example age(days since upload); serving:0\n",
    "- generate a fixed number of training exampls per user (prevent a small cohort of highly actice users from dominating the loss)\n",
    "- discarding sequence onformation aand represeting search queries with an unordered bag of tokens\n",
    "- predicting future watch, not predicting held-out watch (what most collaborative filtering systems do)\n",
    "\n",
    "- a vocabulary of 1M videos and 1M search tokens were embeded with 256 floats each in a maximum bag size of 50 recent watches and 50 recent searches\n"
   ]
  },
  {
   "cell_type": "code",
   "execution_count": 3,
   "metadata": {},
   "outputs": [],
   "source": [
    "# basePath = os.path.dirname(os.path.abspath(__file__))\n",
    "## embeded video watched, embeded search tokens, geographic embeddings, example page, gender\n",
    "articles = pd.read_csv('data/articles.csv')\n",
    "users = pd.read_csv('data/user.csv')\n"
   ]
  },
  {
   "cell_type": "code",
   "execution_count": 4,
   "metadata": {},
   "outputs": [
    {
     "name": "stdout",
     "output_type": "stream",
     "text": [
      "columns for article: Index(['aid', 'title', 'subTitle', 'totalClapCount', 'tags', 'date'], dtype='object')\n",
      "columns for user: Index(['name', 'bio', 'searchHist', 'watchHistTime', 'watchHist', 'interests'], dtype='object')\n"
     ]
    }
   ],
   "source": [
    "articles = articles[[ 'aid', 'title','subTitle','totalClapCount', 'tags','date']]\n",
    "users = users[['name','bio','searchHist','watchHistTime','watchHist','interests']]\n",
    "print(\"columns for article:\",articles.columns)\n",
    "print(\"columns for user:\",users.columns)"
   ]
  },
  {
   "cell_type": "code",
   "execution_count": 5,
   "metadata": {},
   "outputs": [],
   "source": [
    "# get example age and  normalize totalClapCount into 0-1 "
   ]
  },
  {
   "cell_type": "code",
   "execution_count": 6,
   "metadata": {},
   "outputs": [],
   "source": [
    "articles['example_age'] = (pd.to_datetime(\"now\") - pd.to_datetime(articles['date']))\\\n",
    "            /np.timedelta64(1,'D')\n",
    "\n",
    "def normalize_col(df,col_name):\n",
    "    df[col_name] = (df[col_name] - df[col_name].min()) / (df[col_name].max() - df[col_name].min())\n",
    "    return df\n",
    "\n",
    "articles = normalize_col(articles,'totalClapCount')\n",
    "articles = normalize_col(articles,'example_age')\n",
    "articles.drop(columns={'date'}, inplace = True)"
   ]
  },
  {
   "cell_type": "code",
   "execution_count": 7,
   "metadata": {},
   "outputs": [
    {
     "data": {
      "text/html": [
       "<div>\n",
       "<style scoped>\n",
       "    .dataframe tbody tr th:only-of-type {\n",
       "        vertical-align: middle;\n",
       "    }\n",
       "\n",
       "    .dataframe tbody tr th {\n",
       "        vertical-align: top;\n",
       "    }\n",
       "\n",
       "    .dataframe thead th {\n",
       "        text-align: right;\n",
       "    }\n",
       "</style>\n",
       "<table border=\"1\" class=\"dataframe\">\n",
       "  <thead>\n",
       "    <tr style=\"text-align: right;\">\n",
       "      <th></th>\n",
       "      <th>aid</th>\n",
       "      <th>title</th>\n",
       "      <th>subTitle</th>\n",
       "      <th>totalClapCount</th>\n",
       "      <th>tags</th>\n",
       "      <th>example_age</th>\n",
       "    </tr>\n",
       "  </thead>\n",
       "  <tbody>\n",
       "    <tr>\n",
       "      <td>0</td>\n",
       "      <td>4</td>\n",
       "      <td>Ascent of data Science, SAS and Big data Analy...</td>\n",
       "      <td>Various associations in the present days are o...</td>\n",
       "      <td>0.00000</td>\n",
       "      <td>['Data Science', 'Sas Training In Pune', 'Hado...</td>\n",
       "      <td>0.310136</td>\n",
       "    </tr>\n",
       "    <tr>\n",
       "      <td>1</td>\n",
       "      <td>3</td>\n",
       "      <td>EPQ draft 1 (4844 words)</td>\n",
       "      <td>Introduction</td>\n",
       "      <td>0.00000</td>\n",
       "      <td>['Technology', 'Robotics', 'Automation', 'Epq']</td>\n",
       "      <td>0.400908</td>\n",
       "    </tr>\n",
       "    <tr>\n",
       "      <td>2</td>\n",
       "      <td>5</td>\n",
       "      <td>What Is The Importance Of Machine Learning?</td>\n",
       "      <td>Machine learning is the reason for every techn...</td>\n",
       "      <td>0.00000</td>\n",
       "      <td>['Machine Learning', 'Machine Learning Trainin...</td>\n",
       "      <td>0.000000</td>\n",
       "    </tr>\n",
       "    <tr>\n",
       "      <td>3</td>\n",
       "      <td>2</td>\n",
       "      <td>AI VS Dota2 Champions</td>\n",
       "      <td>What do we know about artificial intelligence?...</td>\n",
       "      <td>0.00000</td>\n",
       "      <td>['Artificial Intelligence', 'Dota 2', 'Cryptoc...</td>\n",
       "      <td>0.127080</td>\n",
       "    </tr>\n",
       "    <tr>\n",
       "      <td>4</td>\n",
       "      <td>1</td>\n",
       "      <td>Private Business, Government and Blockchain</td>\n",
       "      <td>A major private IT company implements blockcha...</td>\n",
       "      <td>0.00753</td>\n",
       "      <td>['Blockchain', 'Samsung', 'It']</td>\n",
       "      <td>0.016641</td>\n",
       "    </tr>\n",
       "  </tbody>\n",
       "</table>\n",
       "</div>"
      ],
      "text/plain": [
       "   aid                                              title  \\\n",
       "0    4  Ascent of data Science, SAS and Big data Analy...   \n",
       "1    3                           EPQ draft 1 (4844 words)   \n",
       "2    5        What Is The Importance Of Machine Learning?   \n",
       "3    2                              AI VS Dota2 Champions   \n",
       "4    1        Private Business, Government and Blockchain   \n",
       "\n",
       "                                            subTitle  totalClapCount  \\\n",
       "0  Various associations in the present days are o...         0.00000   \n",
       "1                                       Introduction         0.00000   \n",
       "2  Machine learning is the reason for every techn...         0.00000   \n",
       "3  What do we know about artificial intelligence?...         0.00000   \n",
       "4  A major private IT company implements blockcha...         0.00753   \n",
       "\n",
       "                                                tags  example_age  \n",
       "0  ['Data Science', 'Sas Training In Pune', 'Hado...     0.310136  \n",
       "1    ['Technology', 'Robotics', 'Automation', 'Epq']     0.400908  \n",
       "2  ['Machine Learning', 'Machine Learning Trainin...     0.000000  \n",
       "3  ['Artificial Intelligence', 'Dota 2', 'Cryptoc...     0.127080  \n",
       "4                    ['Blockchain', 'Samsung', 'It']     0.016641  "
      ]
     },
     "execution_count": 7,
     "metadata": {},
     "output_type": "execute_result"
    }
   ],
   "source": [
    "articles.head(5)"
   ]
  },
  {
   "cell_type": "code",
   "execution_count": 8,
   "metadata": {},
   "outputs": [
    {
     "data": {
      "text/html": [
       "<div>\n",
       "<style scoped>\n",
       "    .dataframe tbody tr th:only-of-type {\n",
       "        vertical-align: middle;\n",
       "    }\n",
       "\n",
       "    .dataframe tbody tr th {\n",
       "        vertical-align: top;\n",
       "    }\n",
       "\n",
       "    .dataframe thead th {\n",
       "        text-align: right;\n",
       "    }\n",
       "</style>\n",
       "<table border=\"1\" class=\"dataframe\">\n",
       "  <thead>\n",
       "    <tr style=\"text-align: right;\">\n",
       "      <th></th>\n",
       "      <th>name</th>\n",
       "      <th>bio</th>\n",
       "      <th>searchHist</th>\n",
       "      <th>watchHistTime</th>\n",
       "      <th>watchHist</th>\n",
       "      <th>interests</th>\n",
       "    </tr>\n",
       "  </thead>\n",
       "  <tbody>\n",
       "    <tr>\n",
       "      <td>0</td>\n",
       "      <td>melodyucros</td>\n",
       "      <td>Entrepreneurial Techie who loves helping start...</td>\n",
       "      <td>['']</td>\n",
       "      <td>[None, 1809, 8460]</td>\n",
       "      <td>[None, 210, 210]</td>\n",
       "      <td>['Career Change']</td>\n",
       "    </tr>\n",
       "    <tr>\n",
       "      <td>1</td>\n",
       "      <td>techdatasolutions18</td>\n",
       "      <td>Tech data Providing Courses Like SaS Training ...</td>\n",
       "      <td>['']</td>\n",
       "      <td>[None, 4633, 4532]</td>\n",
       "      <td>[None, 386, 386]</td>\n",
       "      <td>['Revnet']</td>\n",
       "    </tr>\n",
       "    <tr>\n",
       "      <td>2</td>\n",
       "      <td>babaevanar</td>\n",
       "      <td>NaN</td>\n",
       "      <td>['']</td>\n",
       "      <td>[None]</td>\n",
       "      <td>[None]</td>\n",
       "      <td>['Vectorization', 'Farmers', 'Additive M', 'De...</td>\n",
       "    </tr>\n",
       "    <tr>\n",
       "      <td>3</td>\n",
       "      <td>tasty231</td>\n",
       "      <td>NaN</td>\n",
       "      <td>['', 'OBIZCOIN', 'Classification', 'Evolution'...</td>\n",
       "      <td>[None, 1375, 996, 829, 3966, 4020, 4454, 2168,...</td>\n",
       "      <td>[None, 78, 226, 168, 465, 478, 466, 381, 415, ...</td>\n",
       "      <td>['Obizcoin', 'Io18', 'Classification', 'Evolut...</td>\n",
       "    </tr>\n",
       "    <tr>\n",
       "      <td>4</td>\n",
       "      <td>stewartalsop</td>\n",
       "      <td>NaN</td>\n",
       "      <td>['', 'Transparency', 'Nips2016', 'Nips']</td>\n",
       "      <td>[None, 2378, 3778, 8930, 6172, 5499]</td>\n",
       "      <td>[None, 126, 128, 390, 52, 52]</td>\n",
       "      <td>['Transparency', 'Nips2016', 'Cloud Tpu']</td>\n",
       "    </tr>\n",
       "  </tbody>\n",
       "</table>\n",
       "</div>"
      ],
      "text/plain": [
       "                  name                                                bio  \\\n",
       "0          melodyucros  Entrepreneurial Techie who loves helping start...   \n",
       "1  techdatasolutions18  Tech data Providing Courses Like SaS Training ...   \n",
       "2           babaevanar                                                NaN   \n",
       "3             tasty231                                                NaN   \n",
       "4         stewartalsop                                                NaN   \n",
       "\n",
       "                                          searchHist  \\\n",
       "0                                               ['']   \n",
       "1                                               ['']   \n",
       "2                                               ['']   \n",
       "3  ['', 'OBIZCOIN', 'Classification', 'Evolution'...   \n",
       "4           ['', 'Transparency', 'Nips2016', 'Nips']   \n",
       "\n",
       "                                       watchHistTime  \\\n",
       "0                                 [None, 1809, 8460]   \n",
       "1                                 [None, 4633, 4532]   \n",
       "2                                             [None]   \n",
       "3  [None, 1375, 996, 829, 3966, 4020, 4454, 2168,...   \n",
       "4               [None, 2378, 3778, 8930, 6172, 5499]   \n",
       "\n",
       "                                           watchHist  \\\n",
       "0                                   [None, 210, 210]   \n",
       "1                                   [None, 386, 386]   \n",
       "2                                             [None]   \n",
       "3  [None, 78, 226, 168, 465, 478, 466, 381, 415, ...   \n",
       "4                      [None, 126, 128, 390, 52, 52]   \n",
       "\n",
       "                                           interests  \n",
       "0                                  ['Career Change']  \n",
       "1                                         ['Revnet']  \n",
       "2  ['Vectorization', 'Farmers', 'Additive M', 'De...  \n",
       "3  ['Obizcoin', 'Io18', 'Classification', 'Evolut...  \n",
       "4          ['Transparency', 'Nips2016', 'Cloud Tpu']  "
      ]
     },
     "execution_count": 8,
     "metadata": {},
     "output_type": "execute_result"
    }
   ],
   "source": [
    "users.head(5)"
   ]
  },
  {
   "cell_type": "code",
   "execution_count": 9,
   "metadata": {},
   "outputs": [
    {
     "data": {
      "text/plain": [
       "name             object\n",
       "bio              object\n",
       "searchHist       object\n",
       "watchHistTime    object\n",
       "watchHist        object\n",
       "interests        object\n",
       "dtype: object"
      ]
     },
     "execution_count": 9,
     "metadata": {},
     "output_type": "execute_result"
    }
   ],
   "source": [
    "users.dtypes"
   ]
  },
  {
   "cell_type": "code",
   "execution_count": 10,
   "metadata": {},
   "outputs": [],
   "source": [
    "import ast\n",
    "def convert_to_list(x):\n",
    "    # convert string list into list, remove None in list, remove duplicates\n",
    "    return list(set(list(filter(None.__ne__, ast.literal_eval(x))))) \n",
    "\n",
    "def format_list_user(x):\n",
    "    x['searchHist'] = list(filter(None, ast.literal_eval(x['searchHist'])))\n",
    "    x['watchHistTime'] = list(filter(None, ast.literal_eval(x['watchHistTime']))) \n",
    "    x['watchHist'] = list(filter(None, ast.literal_eval(x['watchHist']))) \n",
    "    x['interests'] = list(filter(None, ast.literal_eval(x['interests']))) \n",
    "    return x\n",
    "\n",
    "\n",
    "users = users.apply(format_list_user, axis=1)\n",
    "articles['tags'] = articles['tags'].apply(convert_to_list)"
   ]
  },
  {
   "cell_type": "code",
   "execution_count": 11,
   "metadata": {},
   "outputs": [
    {
     "data": {
      "text/html": [
       "<div>\n",
       "<style scoped>\n",
       "    .dataframe tbody tr th:only-of-type {\n",
       "        vertical-align: middle;\n",
       "    }\n",
       "\n",
       "    .dataframe tbody tr th {\n",
       "        vertical-align: top;\n",
       "    }\n",
       "\n",
       "    .dataframe thead th {\n",
       "        text-align: right;\n",
       "    }\n",
       "</style>\n",
       "<table border=\"1\" class=\"dataframe\">\n",
       "  <thead>\n",
       "    <tr style=\"text-align: right;\">\n",
       "      <th></th>\n",
       "      <th>name</th>\n",
       "      <th>bio</th>\n",
       "      <th>searchHist</th>\n",
       "      <th>watchHistTime</th>\n",
       "      <th>watchHist</th>\n",
       "      <th>interests</th>\n",
       "    </tr>\n",
       "  </thead>\n",
       "  <tbody>\n",
       "    <tr>\n",
       "      <td>0</td>\n",
       "      <td>melodyucros</td>\n",
       "      <td>Entrepreneurial Techie who loves helping start...</td>\n",
       "      <td>[]</td>\n",
       "      <td>[1809, 8460]</td>\n",
       "      <td>[210, 210]</td>\n",
       "      <td>[Career Change]</td>\n",
       "    </tr>\n",
       "    <tr>\n",
       "      <td>1</td>\n",
       "      <td>techdatasolutions18</td>\n",
       "      <td>Tech data Providing Courses Like SaS Training ...</td>\n",
       "      <td>[]</td>\n",
       "      <td>[4633, 4532]</td>\n",
       "      <td>[386, 386]</td>\n",
       "      <td>[Revnet]</td>\n",
       "    </tr>\n",
       "    <tr>\n",
       "      <td>2</td>\n",
       "      <td>babaevanar</td>\n",
       "      <td>NaN</td>\n",
       "      <td>[]</td>\n",
       "      <td>[]</td>\n",
       "      <td>[]</td>\n",
       "      <td>[Vectorization, Farmers, Additive M, Decision ...</td>\n",
       "    </tr>\n",
       "    <tr>\n",
       "      <td>3</td>\n",
       "      <td>tasty231</td>\n",
       "      <td>NaN</td>\n",
       "      <td>[OBIZCOIN, Classification, Evolution, Mechanic...</td>\n",
       "      <td>[1375, 996, 829, 3966, 4020, 4454, 2168, 3969,...</td>\n",
       "      <td>[78, 226, 168, 465, 478, 466, 381, 415, 421]</td>\n",
       "      <td>[Obizcoin, Io18, Classification, Evolution, Me...</td>\n",
       "    </tr>\n",
       "    <tr>\n",
       "      <td>4</td>\n",
       "      <td>stewartalsop</td>\n",
       "      <td>NaN</td>\n",
       "      <td>[Transparency, Nips2016, Nips]</td>\n",
       "      <td>[2378, 3778, 8930, 6172, 5499]</td>\n",
       "      <td>[126, 128, 390, 52, 52]</td>\n",
       "      <td>[Transparency, Nips2016, Cloud Tpu]</td>\n",
       "    </tr>\n",
       "  </tbody>\n",
       "</table>\n",
       "</div>"
      ],
      "text/plain": [
       "                  name                                                bio  \\\n",
       "0          melodyucros  Entrepreneurial Techie who loves helping start...   \n",
       "1  techdatasolutions18  Tech data Providing Courses Like SaS Training ...   \n",
       "2           babaevanar                                                NaN   \n",
       "3             tasty231                                                NaN   \n",
       "4         stewartalsop                                                NaN   \n",
       "\n",
       "                                          searchHist  \\\n",
       "0                                                 []   \n",
       "1                                                 []   \n",
       "2                                                 []   \n",
       "3  [OBIZCOIN, Classification, Evolution, Mechanic...   \n",
       "4                     [Transparency, Nips2016, Nips]   \n",
       "\n",
       "                                       watchHistTime  \\\n",
       "0                                       [1809, 8460]   \n",
       "1                                       [4633, 4532]   \n",
       "2                                                 []   \n",
       "3  [1375, 996, 829, 3966, 4020, 4454, 2168, 3969,...   \n",
       "4                     [2378, 3778, 8930, 6172, 5499]   \n",
       "\n",
       "                                      watchHist  \\\n",
       "0                                    [210, 210]   \n",
       "1                                    [386, 386]   \n",
       "2                                            []   \n",
       "3  [78, 226, 168, 465, 478, 466, 381, 415, 421]   \n",
       "4                       [126, 128, 390, 52, 52]   \n",
       "\n",
       "                                           interests  \n",
       "0                                    [Career Change]  \n",
       "1                                           [Revnet]  \n",
       "2  [Vectorization, Farmers, Additive M, Decision ...  \n",
       "3  [Obizcoin, Io18, Classification, Evolution, Me...  \n",
       "4                [Transparency, Nips2016, Cloud Tpu]  "
      ]
     },
     "execution_count": 11,
     "metadata": {},
     "output_type": "execute_result"
    }
   ],
   "source": [
    "users.head(5)"
   ]
  },
  {
   "cell_type": "code",
   "execution_count": 12,
   "metadata": {},
   "outputs": [],
   "source": [
    "assert (users['watchHistTime'].apply(len) == users['watchHist'].apply(len)).all()"
   ]
  },
  {
   "cell_type": "code",
   "execution_count": 13,
   "metadata": {},
   "outputs": [],
   "source": [
    "# active users"
   ]
  },
  {
   "cell_type": "code",
   "execution_count": 14,
   "metadata": {},
   "outputs": [],
   "source": [
    "act_users = users.copy()\n",
    "act_users['watchHist'] = act_users['watchHist'].apply(lambda x: list(set(x))) # remove duplicated watched item ids\n",
    "act_users = act_users.explode('watchHist')\n",
    "act_users = act_users.drop(columns = {'watchHistTime'})\n",
    "act_users['bio'] = act_users['bio'].fillna(' ')\n",
    "\n",
    "act_users = act_users.dropna()"
   ]
  },
  {
   "cell_type": "code",
   "execution_count": 15,
   "metadata": {},
   "outputs": [
    {
     "data": {
      "text/plain": [
       "(287, 5)"
      ]
     },
     "execution_count": 15,
     "metadata": {},
     "output_type": "execute_result"
    }
   ],
   "source": [
    "act_users.shape"
   ]
  },
  {
   "cell_type": "code",
   "execution_count": 16,
   "metadata": {},
   "outputs": [
    {
     "data": {
      "text/plain": [
       "<matplotlib.axes._subplots.AxesSubplot at 0x1a49ee8588>"
      ]
     },
     "execution_count": 16,
     "metadata": {},
     "output_type": "execute_result"
    },
    {
     "data": {
      "image/png": "[encoded data removed]",
      "text/plain": [
       "<Figure size 432x288 with 1 Axes>"
      ]
     },
     "metadata": {
      "needs_background": "light"
     },
     "output_type": "display_data"
    }
   ],
   "source": [
    "act_users.groupby('name')['watchHist'].count().hist()"
   ]
  },
  {
   "cell_type": "code",
   "execution_count": 17,
   "metadata": {},
   "outputs": [
    {
     "data": {
      "text/plain": [
       "count    57.000000\n",
       "mean      5.035088\n",
       "std       2.427263\n",
       "min       1.000000\n",
       "25%       4.000000\n",
       "50%       5.000000\n",
       "75%       6.000000\n",
       "max      11.000000\n",
       "Name: watchHist, dtype: float64"
      ]
     },
     "execution_count": 17,
     "metadata": {},
     "output_type": "execute_result"
    }
   ],
   "source": [
    "act_users.groupby('name')['watchHist'].count().describe()"
   ]
  },
  {
   "cell_type": "code",
   "execution_count": 18,
   "metadata": {},
   "outputs": [],
   "source": [
    "# act_users.groupby('name')['watchHist'].count()"
   ]
  },
  {
   "cell_type": "code",
   "execution_count": 19,
   "metadata": {},
   "outputs": [],
   "source": [
    "# meas search amount is 5, generate 10 for each user"
   ]
  },
  {
   "cell_type": "code",
   "execution_count": 20,
   "metadata": {},
   "outputs": [
    {
     "data": {
      "text/plain": [
       "Index(['aid', 'title', 'subTitle', 'totalClapCount', 'tags', 'example_age'], dtype='object')"
      ]
     },
     "execution_count": 20,
     "metadata": {},
     "output_type": "execute_result"
    }
   ],
   "source": [
    "articles.columns"
   ]
  },
  {
   "cell_type": "code",
   "execution_count": 21,
   "metadata": {},
   "outputs": [],
   "source": [
    "train_pos = pd.merge(act_users,articles, left_on=['watchHist'],right_on =['aid'],how='inner')\\\n",
    "        .drop(columns = ['watchHist'])"
   ]
  },
  {
   "cell_type": "code",
   "execution_count": 22,
   "metadata": {},
   "outputs": [
    {
     "data": {
      "text/plain": [
       "(287, 10)"
      ]
     },
     "execution_count": 22,
     "metadata": {},
     "output_type": "execute_result"
    }
   ],
   "source": [
    "train_pos.shape"
   ]
  },
  {
   "cell_type": "code",
   "execution_count": 23,
   "metadata": {},
   "outputs": [],
   "source": [
    "user_need_sample= act_users.groupby('name')['watchHist'].count().reset_index(name = 'count')\n",
    "\n",
    "negative_list = []\n",
    "for index, row in user_need_sample.iterrows():\n",
    "    temp = articles.sample(n= 12 - row['count'])\n",
    "    temp['name'] = row['name']\n",
    "    negative_list.append(temp)\n",
    "\n",
    "negative_df = pd.concat(negative_list)"
   ]
  },
  {
   "cell_type": "code",
   "execution_count": 24,
   "metadata": {},
   "outputs": [
    {
     "data": {
      "text/plain": [
       "Index(['aid', 'title', 'subTitle', 'totalClapCount', 'tags', 'example_age',\n",
       "       'name'],\n",
       "      dtype='object')"
      ]
     },
     "execution_count": 24,
     "metadata": {},
     "output_type": "execute_result"
    }
   ],
   "source": [
    "negative_df.columns"
   ]
  },
  {
   "cell_type": "code",
   "execution_count": 25,
   "metadata": {},
   "outputs": [
    {
     "data": {
      "text/plain": [
       "57"
      ]
     },
     "execution_count": 25,
     "metadata": {},
     "output_type": "execute_result"
    }
   ],
   "source": [
    "len(negative_list)"
   ]
  },
  {
   "cell_type": "code",
   "execution_count": 26,
   "metadata": {},
   "outputs": [
    {
     "data": {
      "text/plain": [
       "Index(['name', 'bio', 'searchHist', 'interests', 'aid', 'title', 'subTitle',\n",
       "       'totalClapCount', 'tags', 'example_age'],\n",
       "      dtype='object')"
      ]
     },
     "execution_count": 26,
     "metadata": {},
     "output_type": "execute_result"
    }
   ],
   "source": [
    "train_pos.columns"
   ]
  },
  {
   "cell_type": "code",
   "execution_count": 27,
   "metadata": {},
   "outputs": [
    {
     "data": {
      "text/plain": [
       "Index(['name', 'bio', 'searchHist', 'watchHist', 'interests'], dtype='object')"
      ]
     },
     "execution_count": 27,
     "metadata": {},
     "output_type": "execute_result"
    }
   ],
   "source": [
    "act_users.columns"
   ]
  },
  {
   "cell_type": "code",
   "execution_count": 28,
   "metadata": {},
   "outputs": [
    {
     "data": {
      "text/plain": [
       "(397, 7)"
      ]
     },
     "execution_count": 28,
     "metadata": {},
     "output_type": "execute_result"
    }
   ],
   "source": [
    "negative_df.shape"
   ]
  },
  {
   "cell_type": "code",
   "execution_count": 29,
   "metadata": {},
   "outputs": [
    {
     "data": {
      "text/plain": [
       "100"
      ]
     },
     "execution_count": 29,
     "metadata": {},
     "output_type": "execute_result"
    }
   ],
   "source": [
    "len(users['name'].unique())"
   ]
  },
  {
   "cell_type": "code",
   "execution_count": 30,
   "metadata": {},
   "outputs": [],
   "source": [
    "trian_neg = pd.merge(negative_df,users,on=['name'],how='inner').sample(n=train_pos.shape[0])"
   ]
  },
  {
   "cell_type": "code",
   "execution_count": 31,
   "metadata": {},
   "outputs": [
    {
     "data": {
      "text/plain": [
       "Index(['aid', 'title', 'subTitle', 'totalClapCount', 'tags', 'example_age',\n",
       "       'name', 'bio', 'searchHist', 'watchHistTime', 'watchHist', 'interests'],\n",
       "      dtype='object')"
      ]
     },
     "execution_count": 31,
     "metadata": {},
     "output_type": "execute_result"
    }
   ],
   "source": [
    "trian_neg.columns"
   ]
  },
  {
   "cell_type": "code",
   "execution_count": 32,
   "metadata": {},
   "outputs": [
    {
     "data": {
      "text/plain": [
       "(287, 12)"
      ]
     },
     "execution_count": 32,
     "metadata": {},
     "output_type": "execute_result"
    }
   ],
   "source": [
    "trian_neg.shape"
   ]
  },
  {
   "cell_type": "code",
   "execution_count": 33,
   "metadata": {},
   "outputs": [
    {
     "data": {
      "text/plain": [
       "(287, 5)"
      ]
     },
     "execution_count": 33,
     "metadata": {},
     "output_type": "execute_result"
    }
   ],
   "source": [
    "act_users.shape"
   ]
  },
  {
   "cell_type": "code",
   "execution_count": 34,
   "metadata": {},
   "outputs": [],
   "source": [
    "# remove the negative articles that appeared in watched list\n",
    "trian_neg['deleted'] = trian_neg.apply(lambda x: x['aid'] in x['watchHist'], axis=1)\n",
    "trian_neg = trian_neg[trian_neg['deleted']==False].drop(columns={'watchHist','deleted','watchHistTime'})"
   ]
  },
  {
   "cell_type": "code",
   "execution_count": 35,
   "metadata": {},
   "outputs": [],
   "source": [
    "trian_neg['label'] = 0\n",
    "train_pos['label'] = train_pos['aid']"
   ]
  },
  {
   "cell_type": "code",
   "execution_count": 36,
   "metadata": {},
   "outputs": [
    {
     "name": "stderr",
     "output_type": "stream",
     "text": [
      "/Users/rachelchen/.local/lib/python3.6/site-packages/ipykernel_launcher.py:1: FutureWarning: Sorting because non-concatenation axis is not aligned. A future version\n",
      "of pandas will change to not sort by default.\n",
      "\n",
      "To accept the future behavior, pass 'sort=False'.\n",
      "\n",
      "To retain the current behavior and silence the warning, pass 'sort=True'.\n",
      "\n",
      "  \"\"\"Entry point for launching an IPython kernel.\n"
     ]
    }
   ],
   "source": [
    "train_data = pd.concat([train_pos,trian_neg])\n",
    "train_data = train_data.drop(columns={'aid','name'})"
   ]
  },
  {
   "cell_type": "code",
   "execution_count": 37,
   "metadata": {},
   "outputs": [
    {
     "data": {
      "text/plain": [
       "bio                True\n",
       "example_age       False\n",
       "interests         False\n",
       "label             False\n",
       "searchHist        False\n",
       "subTitle           True\n",
       "tags              False\n",
       "title             False\n",
       "totalClapCount    False\n",
       "dtype: bool"
      ]
     },
     "execution_count": 37,
     "metadata": {},
     "output_type": "execute_result"
    }
   ],
   "source": [
    "train_data.isnull().any()"
   ]
  },
  {
   "cell_type": "code",
   "execution_count": 38,
   "metadata": {},
   "outputs": [],
   "source": [
    "train_data['subTitle'] = train_data['subTitle'].fillna('')\n",
    "train_data['bio'] = train_data['bio'].fillna('')"
   ]
  },
  {
   "cell_type": "code",
   "execution_count": 39,
   "metadata": {},
   "outputs": [
    {
     "data": {
      "text/plain": [
       "(568, 9)"
      ]
     },
     "execution_count": 39,
     "metadata": {},
     "output_type": "execute_result"
    }
   ],
   "source": [
    "train_data.shape"
   ]
  },
  {
   "cell_type": "code",
   "execution_count": 40,
   "metadata": {},
   "outputs": [
    {
     "data": {
      "text/plain": [
       "Index(['bio', 'example_age', 'interests', 'label', 'searchHist', 'subTitle',\n",
       "       'tags', 'title', 'totalClapCount'],\n",
       "      dtype='object')"
      ]
     },
     "execution_count": 40,
     "metadata": {},
     "output_type": "execute_result"
    }
   ],
   "source": [
    "train_data.columns"
   ]
  },
  {
   "cell_type": "code",
   "execution_count": null,
   "metadata": {},
   "outputs": [],
   "source": []
  },
  {
   "cell_type": "code",
   "execution_count": 41,
   "metadata": {},
   "outputs": [],
   "source": [
    "## use the embedding "
   ]
  },
  {
   "cell_type": "code",
   "execution_count": 42,
   "metadata": {},
   "outputs": [
    {
     "data": {
      "text/plain": [
       "Index(['bio', 'example_age', 'interests', 'label', 'searchHist', 'subTitle',\n",
       "       'tags', 'title', 'totalClapCount'],\n",
       "      dtype='object')"
      ]
     },
     "execution_count": 42,
     "metadata": {},
     "output_type": "execute_result"
    }
   ],
   "source": [
    "train_data.columns"
   ]
  },
  {
   "cell_type": "code",
   "execution_count": 43,
   "metadata": {},
   "outputs": [],
   "source": [
    "## preprare for bert embedding"
   ]
  },
  {
   "cell_type": "code",
   "execution_count": 44,
   "metadata": {},
   "outputs": [],
   "source": [
    "train_data['interests'] = train_data['interests'].apply(lambda x: ' '.join(x))\n",
    "train_data['tags'] = train_data['tags'].apply(lambda x: ' '.join(x))\n",
    "train_data['searchHist'] = train_data['searchHist'].apply(lambda x: ' '.join(x))\n",
    "\n",
    "train_data['article_emb'] = train_data['title']+ train_data['subTitle']+train_data['tags'] \n",
    "train_data['user_beh_emb'] = train_data['searchHist'] \n",
    "train_data['user_emb'] = train_data['bio'] + train_data['interests']\n",
    "\n",
    "train_data = train_data[['article_emb','user_beh_emb','user_emb','totalClapCount','label','example_age']]"
   ]
  },
  {
   "cell_type": "code",
   "execution_count": 45,
   "metadata": {},
   "outputs": [],
   "source": [
    "def get_bert_emb(df,col_name,max_length=10):\n",
    "    tokenizer = BertTokenizer.from_pretrained('bert-base-cased')\n",
    "    model = TFBertModel.from_pretrained('bert-base-cased')\n",
    "    batch_encoding = tokenizer.batch_encode_plus(df[col_name].tolist(), max_length=max_length, pad_to_max_length=True)\n",
    "\n",
    "    outputs = model(tf.convert_to_tensor(batch_encoding['input_ids'])) # shape: (batch,sequence length, hidden state)\n",
    "    embeddings_video = tf.reduce_mean(outputs[0],1)\n",
    "    return embeddings_video.numpy().tolist(),batch_encoding['input_ids']"
   ]
  },
  {
   "cell_type": "code",
   "execution_count": 46,
   "metadata": {},
   "outputs": [],
   "source": [
    "# train_data.head(10)"
   ]
  },
  {
   "cell_type": "code",
   "execution_count": 47,
   "metadata": {},
   "outputs": [
    {
     "data": {
      "text/plain": [
       "article_emb       False\n",
       "user_beh_emb      False\n",
       "user_emb          False\n",
       "totalClapCount    False\n",
       "label             False\n",
       "example_age       False\n",
       "dtype: bool"
      ]
     },
     "execution_count": 47,
     "metadata": {},
     "output_type": "execute_result"
    }
   ],
   "source": [
    "train_data.isna().any()"
   ]
  },
  {
   "cell_type": "code",
   "execution_count": 48,
   "metadata": {},
   "outputs": [],
   "source": [
    "# average the histrical article embedding \n",
    "# average user_beh_embedding \n",
    "# user_emb \n",
    "\n",
    "# multi-class problem"
   ]
  },
  {
   "cell_type": "code",
   "execution_count": 49,
   "metadata": {},
   "outputs": [],
   "source": [
    "train_data['article_emb_bert'],train_data['article_emb_inputid'] = get_bert_emb(train_data,'article_emb')\n",
    "train_data['user_beh_emb_bert'],train_data['user_beh_emb_inputid'] = get_bert_emb(train_data,'user_beh_emb')\n",
    "train_data['user_emb_bert'],train_data['user_emb_inputid'] = get_bert_emb(train_data,'user_emb')"
   ]
  },
  {
   "cell_type": "code",
   "execution_count": 50,
   "metadata": {},
   "outputs": [],
   "source": [
    "train_data['example_age_square'] = train_data['example_age'].map(np.square)"
   ]
  },
  {
   "cell_type": "code",
   "execution_count": 51,
   "metadata": {},
   "outputs": [
    {
     "data": {
      "text/plain": [
       "Index(['article_emb', 'user_beh_emb', 'user_emb', 'totalClapCount', 'label',\n",
       "       'example_age', 'article_emb_bert', 'article_emb_inputid',\n",
       "       'user_beh_emb_bert', 'user_beh_emb_inputid', 'user_emb_bert',\n",
       "       'user_emb_inputid', 'example_age_square'],\n",
       "      dtype='object')"
      ]
     },
     "execution_count": 51,
     "metadata": {},
     "output_type": "execute_result"
    }
   ],
   "source": [
    "train_data.columns"
   ]
  },
  {
   "cell_type": "code",
   "execution_count": 52,
   "metadata": {},
   "outputs": [
    {
     "data": {
      "text/html": [
       "<div>\n",
       "<style scoped>\n",
       "    .dataframe tbody tr th:only-of-type {\n",
       "        vertical-align: middle;\n",
       "    }\n",
       "\n",
       "    .dataframe tbody tr th {\n",
       "        vertical-align: top;\n",
       "    }\n",
       "\n",
       "    .dataframe thead th {\n",
       "        text-align: right;\n",
       "    }\n",
       "</style>\n",
       "<table border=\"1\" class=\"dataframe\">\n",
       "  <thead>\n",
       "    <tr style=\"text-align: right;\">\n",
       "      <th></th>\n",
       "      <th>article_emb</th>\n",
       "      <th>user_beh_emb</th>\n",
       "      <th>user_emb</th>\n",
       "      <th>totalClapCount</th>\n",
       "      <th>label</th>\n",
       "      <th>example_age</th>\n",
       "      <th>article_emb_bert</th>\n",
       "      <th>article_emb_inputid</th>\n",
       "      <th>user_beh_emb_bert</th>\n",
       "      <th>user_beh_emb_inputid</th>\n",
       "      <th>user_emb_bert</th>\n",
       "      <th>user_emb_inputid</th>\n",
       "      <th>example_age_square</th>\n",
       "    </tr>\n",
       "  </thead>\n",
       "  <tbody>\n",
       "    <tr>\n",
       "      <td>0</td>\n",
       "      <td>Making the SwitchThe Painstakingly Slow Beginn...</td>\n",
       "      <td></td>\n",
       "      <td>Entrepreneurial Techie who loves helping start...</td>\n",
       "      <td>0.000000</td>\n",
       "      <td>210</td>\n",
       "      <td>0.039334</td>\n",
       "      <td>[0.22904324531555176, 0.02765187993645668, 0.1...</td>\n",
       "      <td>[101, 10697, 1103, 156, 18548, 1942, 4638, 133...</td>\n",
       "      <td>[-0.17436088621616364, -0.2535916566848755, 0....</td>\n",
       "      <td>[101, 102, 0, 0, 0, 0, 0, 0, 0, 0]</td>\n",
       "      <td>[0.33958497643470764, 0.15296240150928497, 0.0...</td>\n",
       "      <td>[101, 13832, 7877, 1643, 16717, 19700, 1233, 7...</td>\n",
       "      <td>0.001547</td>\n",
       "    </tr>\n",
       "    <tr>\n",
       "      <td>1</td>\n",
       "      <td>Code with Eager Execution, Run with Graphs: Op...</td>\n",
       "      <td></td>\n",
       "      <td>Tech data Providing Courses Like SaS Training ...</td>\n",
       "      <td>0.007078</td>\n",
       "      <td>386</td>\n",
       "      <td>0.077156</td>\n",
       "      <td>[0.10684485733509064, 0.19496707618236542, 0.2...</td>\n",
       "      <td>[101, 6741, 1114, 142, 12344, 16409, 10294, 12...</td>\n",
       "      <td>[-0.17436088621616364, -0.2535916566848755, 0....</td>\n",
       "      <td>[101, 102, 0, 0, 0, 0, 0, 0, 0, 0]</td>\n",
       "      <td>[0.2618952691555023, 0.13922862708568573, -0.1...</td>\n",
       "      <td>[101, 7882, 2233, 5096, 18312, 1158, 10176, 11...</td>\n",
       "      <td>0.005953</td>\n",
       "    </tr>\n",
       "    <tr>\n",
       "      <td>2</td>\n",
       "      <td>Code with Eager Execution, Run with Graphs: Op...</td>\n",
       "      <td></td>\n",
       "      <td>Computer Science Undergrad trying to figure st...</td>\n",
       "      <td>0.007078</td>\n",
       "      <td>386</td>\n",
       "      <td>0.077156</td>\n",
       "      <td>[0.10684485733509064, 0.19496707618236542, 0.2...</td>\n",
       "      <td>[101, 6741, 1114, 142, 12344, 16409, 10294, 12...</td>\n",
       "      <td>[-0.17436088621616364, -0.2535916566848755, 0....</td>\n",
       "      <td>[101, 102, 0, 0, 0, 0, 0, 0, 0, 0]</td>\n",
       "      <td>[0.15719716250896454, 0.2271394282579422, 0.09...</td>\n",
       "      <td>[101, 6701, 2444, 2831, 20561, 1774, 1106, 248...</td>\n",
       "      <td>0.005953</td>\n",
       "    </tr>\n",
       "    <tr>\n",
       "      <td>3</td>\n",
       "      <td>Application of Random Forest Algorithm in Remo...</td>\n",
       "      <td>OBIZCOIN Classification Evolution Mechanical M...</td>\n",
       "      <td>Obizcoin Io18 Classification Evolution Mechan...</td>\n",
       "      <td>0.000000</td>\n",
       "      <td>226</td>\n",
       "      <td>0.240545</td>\n",
       "      <td>[0.02249579131603241, 0.12434376776218414, -0....</td>\n",
       "      <td>[101, 22491, 1104, 19441, 4089, 2586, 18791, 7...</td>\n",
       "      <td>[0.13140153884887695, -0.12303154170513153, -0...</td>\n",
       "      <td>[101, 152, 24963, 5301, 15678, 11607, 19295, 1...</td>\n",
       "      <td>[0.5636561512947083, -0.11189024150371552, 0.1...</td>\n",
       "      <td>[101, 152, 5567, 1584, 2528, 1394, 146, 1186, ...</td>\n",
       "      <td>0.057862</td>\n",
       "    </tr>\n",
       "    <tr>\n",
       "      <td>4</td>\n",
       "      <td>Application of Random Forest Algorithm in Remo...</td>\n",
       "      <td>Tech Data</td>\n",
       "      <td>Freelance writer and content marketer. Mainly ...</td>\n",
       "      <td>0.000000</td>\n",
       "      <td>226</td>\n",
       "      <td>0.240545</td>\n",
       "      <td>[0.02249579131603241, 0.12434376776218414, -0....</td>\n",
       "      <td>[101, 22491, 1104, 19441, 4089, 2586, 18791, 7...</td>\n",
       "      <td>[0.06514380872249603, -0.1176924854516983, 0.3...</td>\n",
       "      <td>[101, 7882, 7154, 102, 0, 0, 0, 0, 0, 0]</td>\n",
       "      <td>[0.4467066824436188, -0.12890012562274933, 0.0...</td>\n",
       "      <td>[101, 4299, 13831, 2432, 1105, 3438, 2319, 120...</td>\n",
       "      <td>0.057862</td>\n",
       "    </tr>\n",
       "  </tbody>\n",
       "</table>\n",
       "</div>"
      ],
      "text/plain": [
       "                                         article_emb  \\\n",
       "0  Making the SwitchThe Painstakingly Slow Beginn...   \n",
       "1  Code with Eager Execution, Run with Graphs: Op...   \n",
       "2  Code with Eager Execution, Run with Graphs: Op...   \n",
       "3  Application of Random Forest Algorithm in Remo...   \n",
       "4  Application of Random Forest Algorithm in Remo...   \n",
       "\n",
       "                                        user_beh_emb  \\\n",
       "0                                                      \n",
       "1                                                      \n",
       "2                                                      \n",
       "3  OBIZCOIN Classification Evolution Mechanical M...   \n",
       "4                                          Tech Data   \n",
       "\n",
       "                                            user_emb  totalClapCount  label  \\\n",
       "0  Entrepreneurial Techie who loves helping start...        0.000000    210   \n",
       "1  Tech data Providing Courses Like SaS Training ...        0.007078    386   \n",
       "2  Computer Science Undergrad trying to figure st...        0.007078    386   \n",
       "3   Obizcoin Io18 Classification Evolution Mechan...        0.000000    226   \n",
       "4  Freelance writer and content marketer. Mainly ...        0.000000    226   \n",
       "\n",
       "   example_age                                   article_emb_bert  \\\n",
       "0     0.039334  [0.22904324531555176, 0.02765187993645668, 0.1...   \n",
       "1     0.077156  [0.10684485733509064, 0.19496707618236542, 0.2...   \n",
       "2     0.077156  [0.10684485733509064, 0.19496707618236542, 0.2...   \n",
       "3     0.240545  [0.02249579131603241, 0.12434376776218414, -0....   \n",
       "4     0.240545  [0.02249579131603241, 0.12434376776218414, -0....   \n",
       "\n",
       "                                 article_emb_inputid  \\\n",
       "0  [101, 10697, 1103, 156, 18548, 1942, 4638, 133...   \n",
       "1  [101, 6741, 1114, 142, 12344, 16409, 10294, 12...   \n",
       "2  [101, 6741, 1114, 142, 12344, 16409, 10294, 12...   \n",
       "3  [101, 22491, 1104, 19441, 4089, 2586, 18791, 7...   \n",
       "4  [101, 22491, 1104, 19441, 4089, 2586, 18791, 7...   \n",
       "\n",
       "                                   user_beh_emb_bert  \\\n",
       "0  [-0.17436088621616364, -0.2535916566848755, 0....   \n",
       "1  [-0.17436088621616364, -0.2535916566848755, 0....   \n",
       "2  [-0.17436088621616364, -0.2535916566848755, 0....   \n",
       "3  [0.13140153884887695, -0.12303154170513153, -0...   \n",
       "4  [0.06514380872249603, -0.1176924854516983, 0.3...   \n",
       "\n",
       "                                user_beh_emb_inputid  \\\n",
       "0                 [101, 102, 0, 0, 0, 0, 0, 0, 0, 0]   \n",
       "1                 [101, 102, 0, 0, 0, 0, 0, 0, 0, 0]   \n",
       "2                 [101, 102, 0, 0, 0, 0, 0, 0, 0, 0]   \n",
       "3  [101, 152, 24963, 5301, 15678, 11607, 19295, 1...   \n",
       "4           [101, 7882, 7154, 102, 0, 0, 0, 0, 0, 0]   \n",
       "\n",
       "                                       user_emb_bert  \\\n",
       "0  [0.33958497643470764, 0.15296240150928497, 0.0...   \n",
       "1  [0.2618952691555023, 0.13922862708568573, -0.1...   \n",
       "2  [0.15719716250896454, 0.2271394282579422, 0.09...   \n",
       "3  [0.5636561512947083, -0.11189024150371552, 0.1...   \n",
       "4  [0.4467066824436188, -0.12890012562274933, 0.0...   \n",
       "\n",
       "                                    user_emb_inputid  example_age_square  \n",
       "0  [101, 13832, 7877, 1643, 16717, 19700, 1233, 7...            0.001547  \n",
       "1  [101, 7882, 2233, 5096, 18312, 1158, 10176, 11...            0.005953  \n",
       "2  [101, 6701, 2444, 2831, 20561, 1774, 1106, 248...            0.005953  \n",
       "3  [101, 152, 5567, 1584, 2528, 1394, 146, 1186, ...            0.057862  \n",
       "4  [101, 4299, 13831, 2432, 1105, 3438, 2319, 120...            0.057862  "
      ]
     },
     "execution_count": 52,
     "metadata": {},
     "output_type": "execute_result"
    }
   ],
   "source": [
    "train_data.head(5)"
   ]
  },
  {
   "cell_type": "code",
   "execution_count": 52,
   "metadata": {},
   "outputs": [],
   "source": [
    "# values = train_data[['article_emb_inputid','user_beh_emb_inputid','user_emb_inputid']].values\n",
    "# values = train_data[['article_emb_inputid','user_beh_emb_inputid','user_emb_inputid']].values\\\n",
    "#         .reshape(values.shape[0]*values.shape[1],)\n",
    "# values = list(set([item for sublist in values for item in sublist]))"
   ]
  },
  {
   "cell_type": "code",
   "execution_count": 53,
   "metadata": {},
   "outputs": [],
   "source": [
    "from sklearn import preprocessing\n",
    "lb = preprocessing.LabelBinarizer()\n",
    "label_trans = lb.fit_transform(train_data['label'])"
   ]
  },
  {
   "cell_type": "code",
   "execution_count": 54,
   "metadata": {},
   "outputs": [
    {
     "data": {
      "text/plain": [
       "(568, 187)"
      ]
     },
     "execution_count": 54,
     "metadata": {},
     "output_type": "execute_result"
    }
   ],
   "source": [
    "label_trans.shape"
   ]
  },
  {
   "cell_type": "code",
   "execution_count": 55,
   "metadata": {},
   "outputs": [],
   "source": [
    "#### wrong: the feature shape is (example_num, feature_amount(768)), it can not be embeeding, \n",
    "### where embedding is for each word, built a vector "
   ]
  },
  {
   "cell_type": "code",
   "execution_count": 56,
   "metadata": {},
   "outputs": [],
   "source": [
    "# num_tags = 12  # Number of unique issue tags\n",
    "# num_words = 10000  # Size of vocabulary obtained when preprocessing text data\n",
    "# num_departments = 4  # Number of departments for predictions\n",
    "\n",
    "# article_input = tf.keras.Input(\n",
    "#     shape=(None,), name=\"article\"\n",
    "# )  \n",
    "# userbeh_input = tf.keras.Input(shape=(None,), name=\"userbehaviour\")  \n",
    "\n",
    "# user_input = tf.keras.Input(\n",
    "#     shape=(None,), name=\"user\"\n",
    "# )  \n",
    "\n",
    "# article_features = tf.keras.layers.Embedding(np.array(train_data['article_emb_bert'].values.tolist()).shape[0], \n",
    "#                                              np.array(train_data['article_emb_bert'].values.tolist()).shape[1], \n",
    "#                                     weights=[np.array(train_data['article_emb_bert'].values.tolist())], \n",
    "#                                     input_length=4, trainable=True)(article_input)\n",
    "# user_beh_features = tf.keras.layers.Embedding(np.array(train_data['user_beh_emb_bert'].values.tolist()).shape[0],\n",
    "#                                               np.array(train_data['user_beh_emb_bert'].values.tolist()).shape[1], \n",
    "#                                     weights=[np.array(train_data['user_beh_emb_bert'].values.tolist())], \n",
    "#                                     input_length=4, trainable=True)(userbeh_input)\n",
    "# user_features = tf.keras.layers.Embedding(np.array(train_data['user_emb_bert'].values.tolist()).shape[0], \n",
    "#                                           np.array(train_data['user_emb_bert'].values.tolist()).shape[1], \n",
    "#                                     weights=[np.array(train_data['user_emb_bert'].values.tolist())], \n",
    "#                                     input_length=4, trainable=True)(user_input)\n",
    "\n",
    "# # Merge all available features into a single large vector via concatenation\n",
    "# x = tf.keras.layers.concatenate([article_features, user_beh_features, user_features])\n",
    "\n",
    "# # Stick a logistic regression for priority prediction on top of the features\n",
    "# hidden_layer = tf.keras.layers.Dense(256, activation='relu', name=\"relu\")(x)\n",
    "# priority_pred = tf.keras.layers.Dense(187, activation= 'softmax', name=\"priority\")(hidden_layer)\n",
    "\n",
    "# # Instantiate an end-to-end model predicting both priority and department\n",
    "# model = tf.keras.Model(\n",
    "#     inputs=[article_input, userbeh_input, user_input],\n",
    "#     outputs=priority_pred,\n",
    "# )\n",
    "# model.compile(optimizer='adam',\n",
    "#             loss=\"categorical_crossentropy\",\n",
    "#             metrics=['accuracy'])\n",
    "# model.fit([tf.convert_to_tensor(train_data['article_emb_inputid']),\n",
    "#            tf.convert_to_tensor(train_data['user_beh_emb_inputid']),\n",
    "#            tf.convert_to_tensor(train_data['user_emb_inputid'])],\n",
    "#           label_trans, epochs=50, shuffle=True)"
   ]
  },
  {
   "cell_type": "code",
   "execution_count": 57,
   "metadata": {},
   "outputs": [],
   "source": [
    "#### set these features as fixed input \n",
    "article_input = tf.keras.Input(\n",
    "    shape=(768,), name=\"article\"\n",
    ")  \n",
    "userbeh_input = tf.keras.Input(shape=(768,), name=\"userbehaviour\")  \n",
    "\n",
    "user_input = tf.keras.Input(\n",
    "    shape=(768,), name=\"user\"\n",
    ") \n",
    "x = tf.keras.layers.concatenate([article_input, userbeh_input, user_input])\n",
    "\n",
    "hidden_layer = tf.keras.layers.Dense(256, activation='relu', name=\"relu\")(x)\n",
    "priority_pred = tf.keras.layers.Dense(187, activation= 'softmax', name=\"priority\")(hidden_layer)\n",
    "\n",
    "model = tf.keras.Model(\n",
    "    inputs=[article_input, userbeh_input, user_input],\n",
    "    outputs=priority_pred,\n",
    ")\n"
   ]
  },
  {
   "cell_type": "code",
   "execution_count": 58,
   "metadata": {},
   "outputs": [],
   "source": [
    "model.compile(optimizer='adam',\n",
    "            loss=\"categorical_crossentropy\",\n",
    "            metrics=['accuracy'])"
   ]
  },
  {
   "cell_type": "code",
   "execution_count": 60,
   "metadata": {},
   "outputs": [
    {
     "name": "stdout",
     "output_type": "stream",
     "text": [
      "Train on 568 samples\n",
      "Epoch 1/50\n",
      "568/568 [==============================] - 0s 571us/sample - loss: 3.7320 - accuracy: 0.4718\n",
      "Epoch 2/50\n",
      "568/568 [==============================] - 0s 83us/sample - loss: 3.0865 - accuracy: 0.4947\n",
      "Epoch 3/50\n",
      "568/568 [==============================] - 0s 79us/sample - loss: 2.7668 - accuracy: 0.4982\n",
      "Epoch 4/50\n",
      "568/568 [==============================] - 0s 81us/sample - loss: 2.4772 - accuracy: 0.5317\n",
      "Epoch 5/50\n",
      "568/568 [==============================] - 0s 82us/sample - loss: 2.1959 - accuracy: 0.5493\n",
      "Epoch 6/50\n",
      "568/568 [==============================] - 0s 79us/sample - loss: 1.9373 - accuracy: 0.5687\n",
      "Epoch 7/50\n",
      "568/568 [==============================] - 0s 81us/sample - loss: 1.7172 - accuracy: 0.5951\n",
      "Epoch 8/50\n",
      "568/568 [==============================] - 0s 84us/sample - loss: 1.4470 - accuracy: 0.6215\n",
      "Epoch 9/50\n",
      "568/568 [==============================] - 0s 86us/sample - loss: 1.1957 - accuracy: 0.6655\n",
      "Epoch 10/50\n",
      "568/568 [==============================] - 0s 89us/sample - loss: 0.9951 - accuracy: 0.7077\n",
      "Epoch 11/50\n",
      "568/568 [==============================] - 0s 85us/sample - loss: 0.8220 - accuracy: 0.7570\n",
      "Epoch 12/50\n",
      "568/568 [==============================] - 0s 83us/sample - loss: 0.7021 - accuracy: 0.8204\n",
      "Epoch 13/50\n",
      "568/568 [==============================] - 0s 86us/sample - loss: 0.5773 - accuracy: 0.8680\n",
      "Epoch 14/50\n",
      "568/568 [==============================] - 0s 82us/sample - loss: 0.4861 - accuracy: 0.8838\n",
      "Epoch 15/50\n",
      "568/568 [==============================] - 0s 82us/sample - loss: 0.4210 - accuracy: 0.9067\n",
      "Epoch 16/50\n",
      "568/568 [==============================] - 0s 84us/sample - loss: 0.3388 - accuracy: 0.9401\n",
      "Epoch 17/50\n",
      "568/568 [==============================] - 0s 88us/sample - loss: 0.2905 - accuracy: 0.9507\n",
      "Epoch 18/50\n",
      "568/568 [==============================] - 0s 89us/sample - loss: 0.2518 - accuracy: 0.9613\n",
      "Epoch 19/50\n",
      "568/568 [==============================] - 0s 91us/sample - loss: 0.2319 - accuracy: 0.9630\n",
      "Epoch 20/50\n",
      "568/568 [==============================] - 0s 90us/sample - loss: 0.2131 - accuracy: 0.9683\n",
      "Epoch 21/50\n",
      "568/568 [==============================] - 0s 89us/sample - loss: 0.1899 - accuracy: 0.9824\n",
      "Epoch 22/50\n",
      "568/568 [==============================] - 0s 87us/sample - loss: 0.1695 - accuracy: 0.9771\n",
      "Epoch 23/50\n",
      "568/568 [==============================] - 0s 81us/sample - loss: 0.1507 - accuracy: 0.9789\n",
      "Epoch 24/50\n",
      "568/568 [==============================] - 0s 83us/sample - loss: 0.1417 - accuracy: 0.9789\n",
      "Epoch 25/50\n",
      "568/568 [==============================] - 0s 83us/sample - loss: 0.1308 - accuracy: 0.9806\n",
      "Epoch 26/50\n",
      "568/568 [==============================] - 0s 83us/sample - loss: 0.1293 - accuracy: 0.9806\n",
      "Epoch 27/50\n",
      "568/568 [==============================] - 0s 85us/sample - loss: 0.1172 - accuracy: 0.9806\n",
      "Epoch 28/50\n",
      "568/568 [==============================] - 0s 79us/sample - loss: 0.1127 - accuracy: 0.9842\n",
      "Epoch 29/50\n",
      "568/568 [==============================] - 0s 82us/sample - loss: 0.1040 - accuracy: 0.9806\n",
      "Epoch 30/50\n",
      "568/568 [==============================] - 0s 79us/sample - loss: 0.0947 - accuracy: 0.9824\n",
      "Epoch 31/50\n",
      "568/568 [==============================] - 0s 82us/sample - loss: 0.0901 - accuracy: 0.9842\n",
      "Epoch 32/50\n",
      "568/568 [==============================] - 0s 84us/sample - loss: 0.0937 - accuracy: 0.9842\n",
      "Epoch 33/50\n",
      "568/568 [==============================] - 0s 84us/sample - loss: 0.0858 - accuracy: 0.9824\n",
      "Epoch 34/50\n",
      "568/568 [==============================] - 0s 88us/sample - loss: 0.0805 - accuracy: 0.9859\n",
      "Epoch 35/50\n",
      "568/568 [==============================] - 0s 88us/sample - loss: 0.0851 - accuracy: 0.9806\n",
      "Epoch 36/50\n",
      "568/568 [==============================] - 0s 83us/sample - loss: 0.0738 - accuracy: 0.9824\n",
      "Epoch 37/50\n",
      "568/568 [==============================] - 0s 80us/sample - loss: 0.0790 - accuracy: 0.9806\n",
      "Epoch 38/50\n",
      "568/568 [==============================] - 0s 82us/sample - loss: 0.0753 - accuracy: 0.9842\n",
      "Epoch 39/50\n",
      "568/568 [==============================] - 0s 82us/sample - loss: 0.0710 - accuracy: 0.9859\n",
      "Epoch 40/50\n",
      "568/568 [==============================] - 0s 77us/sample - loss: 0.0754 - accuracy: 0.9824\n",
      "Epoch 41/50\n",
      "568/568 [==============================] - 0s 79us/sample - loss: 0.0709 - accuracy: 0.9789\n",
      "Epoch 42/50\n",
      "568/568 [==============================] - 0s 85us/sample - loss: 0.0661 - accuracy: 0.9824\n",
      "Epoch 43/50\n",
      "568/568 [==============================] - 0s 83us/sample - loss: 0.0630 - accuracy: 0.9842\n",
      "Epoch 44/50\n",
      "568/568 [==============================] - 0s 81us/sample - loss: 0.0573 - accuracy: 0.9859\n",
      "Epoch 45/50\n",
      "568/568 [==============================] - 0s 79us/sample - loss: 0.0537 - accuracy: 0.9877\n",
      "Epoch 46/50\n",
      "568/568 [==============================] - 0s 85us/sample - loss: 0.0501 - accuracy: 0.9877\n",
      "Epoch 47/50\n",
      "568/568 [==============================] - 0s 88us/sample - loss: 0.0644 - accuracy: 0.9824\n",
      "Epoch 48/50\n",
      "568/568 [==============================] - 0s 85us/sample - loss: 0.0541 - accuracy: 0.9859\n",
      "Epoch 49/50\n",
      "568/568 [==============================] - 0s 89us/sample - loss: 0.0495 - accuracy: 0.9824\n",
      "Epoch 50/50\n",
      "568/568 [==============================] - 0s 85us/sample - loss: 0.0482 - accuracy: 0.9877\n"
     ]
    },
    {
     "data": {
      "text/plain": [
       "<tensorflow.python.keras.callbacks.History at 0x1a4aced160>"
      ]
     },
     "execution_count": 60,
     "metadata": {},
     "output_type": "execute_result"
    }
   ],
   "source": [
    "model.fit([tf.convert_to_tensor(train_data['article_emb_bert']),\n",
    "           tf.convert_to_tensor(train_data['user_beh_emb_bert']),\n",
    "           tf.convert_to_tensor(train_data['user_emb_bert'])],\n",
    "          label_trans, epochs=50, shuffle=True)"
   ]
  },
  {
   "cell_type": "code",
   "execution_count": 59,
   "metadata": {},
   "outputs": [
    {
     "data": {
      "text/plain": [
       "TensorShape([568, 768])"
      ]
     },
     "execution_count": 59,
     "metadata": {},
     "output_type": "execute_result"
    }
   ],
   "source": [
    "tf.convert_to_tensor(train_data['article_emb_bert']).shape"
   ]
  },
  {
   "cell_type": "code",
   "execution_count": null,
   "metadata": {},
   "outputs": [],
   "source": []
  },
  {
   "cell_type": "code",
   "execution_count": 49,
   "metadata": {},
   "outputs": [],
   "source": [
    "dim_len = len(train_data['article_emb'].head(1).values.tolist()[0])"
   ]
  },
  {
   "cell_type": "code",
   "execution_count": 50,
   "metadata": {},
   "outputs": [],
   "source": [
    "article_emb_cols = ['article_emb_'+str(i) for i in range(0,dim_len)]\n",
    "user_beh_emb_cols = ['user_beh_emb_'+str(i) for i in range(0,dim_len)]\n",
    "user_emb_cols = ['user_emb'+str(i) for i in range(0,dim_len)]"
   ]
  },
  {
   "cell_type": "code",
   "execution_count": 51,
   "metadata": {},
   "outputs": [],
   "source": [
    "train_data = pd.concat([pd.DataFrame(train_data.article_emb.tolist(),index= train_data.index,columns=article_emb_cols),\n",
    "                       pd.DataFrame(train_data.user_beh_emb.tolist(),index= train_data.index,columns=user_beh_emb_cols),\n",
    "                       pd.DataFrame(train_data.user_emb.tolist(),index= train_data.index,columns=user_emb_cols),\n",
    "                       train_data[['totalClapCount','example_age_square','example_age','label']]\n",
    "                      ],axis=1, sort=False)"
   ]
  },
  {
   "cell_type": "code",
   "execution_count": 52,
   "metadata": {},
   "outputs": [
    {
     "data": {
      "text/plain": [
       "(571, 2308)"
      ]
     },
     "execution_count": 52,
     "metadata": {},
     "output_type": "execute_result"
    }
   ],
   "source": [
    "train_data.shape"
   ]
  },
  {
   "cell_type": "code",
   "execution_count": 53,
   "metadata": {},
   "outputs": [],
   "source": [
    "from sklearn.model_selection import train_test_split\n",
    "\n",
    "train, test = train_test_split(train_data, test_size=0.2)"
   ]
  },
  {
   "cell_type": "code",
   "execution_count": 54,
   "metadata": {},
   "outputs": [
    {
     "data": {
      "text/plain": [
       "<matplotlib.axes._subplots.AxesSubplot at 0x1a52736518>"
      ]
     },
     "execution_count": 54,
     "metadata": {},
     "output_type": "execute_result"
    },
    {
     "data": {
      "image/png": "[encoded data removed]",
      "text/plain": [
       "<Figure size 432x288 with 1 Axes>"
      ]
     },
     "metadata": {
      "needs_background": "light"
     },
     "output_type": "display_data"
    }
   ],
   "source": [
    "sns.distplot(test['label'], color='red')\n",
    "sns.distplot(train['label'], color='green')"
   ]
  },
  {
   "cell_type": "code",
   "execution_count": 55,
   "metadata": {},
   "outputs": [
    {
     "name": "stdout",
     "output_type": "stream",
     "text": [
      "WARNING:tensorflow:There are non-GPU devices in `tf.distribute.Strategy`, not using nccl allreduce.\n",
      "INFO:tensorflow:Using MirroredStrategy with devices ('/job:localhost/replica:0/task:0/device:CPU:0',)\n"
     ]
    }
   ],
   "source": [
    "strategy = tf.distribute.MirroredStrategy()\n",
    "\n",
    "BUFFER_SIZE = train.shape[0]\n",
    "\n",
    "BATCH_SIZE_PER_REPLICA = 64\n",
    "GLOBAL_BATCH_SIZE = BATCH_SIZE_PER_REPLICA * strategy.num_replicas_in_sync\n",
    "\n",
    "EPOCHS = 10"
   ]
  },
  {
   "cell_type": "code",
   "execution_count": null,
   "metadata": {},
   "outputs": [],
   "source": [
    "## recommend based on the most watched video content"
   ]
  },
  {
   "cell_type": "code",
   "execution_count": 56,
   "metadata": {},
   "outputs": [
    {
     "data": {
      "text/plain": [
       "(571, 2308)"
      ]
     },
     "execution_count": 56,
     "metadata": {},
     "output_type": "execute_result"
    }
   ],
   "source": [
    "train_data.shape"
   ]
  },
  {
   "cell_type": "code",
   "execution_count": 57,
   "metadata": {},
   "outputs": [
    {
     "data": {
      "text/plain": [
       "Index(['article_emb_0', 'article_emb_1', 'article_emb_2', 'article_emb_3',\n",
       "       'article_emb_4', 'article_emb_5', 'article_emb_6', 'article_emb_7',\n",
       "       'article_emb_8', 'article_emb_9',\n",
       "       ...\n",
       "       'user_emb762', 'user_emb763', 'user_emb764', 'user_emb765',\n",
       "       'user_emb766', 'user_emb767', 'totalClapCount', 'example_age_square',\n",
       "       'example_age', 'label'],\n",
       "      dtype='object', length=2308)"
      ]
     },
     "execution_count": 57,
     "metadata": {},
     "output_type": "execute_result"
    }
   ],
   "source": [
    "train_data.columns"
   ]
  },
  {
   "cell_type": "code",
   "execution_count": 55,
   "metadata": {},
   "outputs": [],
   "source": [
    "item_num = len(articles['aid'].unique())\n",
    "embedding_size = 256\n",
    "\n",
    "initializer = tf.random_uniform_initializer(minval=-0.5 / embedding_size, maxval=0.5 / embedding_size)\n",
    "partitioner = tf.compat.v1.fixed_size_partitioner(num_shards=embedding_size)\n",
    "item_embedding = tf.compat.v1.get_variable(\"item_embedding\", \n",
    "                                 [item_num, embedding_size],\n",
    "                                 tf.float32, \n",
    "                                 initializer=initializer, \n",
    "                                 partitioner=partitioner)\n",
    "\n",
    "\n",
    "def mapped_function(train, label):\n",
    "    return train, tf.nn.embedding_lookup(item_embedding, label)\n",
    "\n",
    "train_dataset =tf.data.Dataset.from_tensor_slices((train.drop(columns={'label'}).values, train['label'].values))\\\n",
    "                                .map(mapped_function)\\\n",
    "                                .shuffle(BUFFER_SIZE)\\\n",
    "                                .batch(GLOBAL_BATCH_SIZE)\\\n",
    "                                .prefetch(buffer_size =tf.data.experimental.AUTOTUNE)\n",
    "\n",
    "test_dataset = tf.data.Dataset.from_tensor_slices((test.drop(columns={'label'}).values, test['label'].values))\\\n",
    "                                .map(mapped_function)\\\n",
    "                                .batch(GLOBAL_BATCH_SIZE)\\\n",
    "                                .prefetch(buffer_size =tf.data.experimental.AUTOTUNE)\n",
    "\n",
    "# train_dist_dataset = strategy.experimental_distribute_dataset(train_dataset)\n",
    "# test_dist_dataset = strategy.experimental_distribute_dataset(test_dataset)"
   ]
  },
  {
   "cell_type": "code",
   "execution_count": 57,
   "metadata": {},
   "outputs": [],
   "source": [
    "from sklearn.preprocessing import OneHotEncoder\n",
    "enc = OneHotEncoder(handle_unknown='ignore').fit(train_data[['label']].values)\n",
    "\n",
    "train_dataset =tf.data.Dataset.from_tensor_slices((train.drop(columns={'label'}).values, enc.transform(train[['label']].values).toarray()))\\\n",
    "                                .shuffle(BUFFER_SIZE)\\\n",
    "                                .batch(GLOBAL_BATCH_SIZE)\\\n",
    "                                .prefetch(buffer_size =tf.data.experimental.AUTOTUNE)\n",
    "\n",
    "test_dataset = tf.data.Dataset.from_tensor_slices((test.drop(columns={'label'}).values, enc.transform(test[['label']].values).toarray()))\\\n",
    "                                .batch(GLOBAL_BATCH_SIZE)\\\n",
    "                                .prefetch(buffer_size =tf.data.experimental.AUTOTUNE)\n",
    "\n"
   ]
  },
  {
   "cell_type": "code",
   "execution_count": null,
   "metadata": {},
   "outputs": [],
   "source": []
  },
  {
   "cell_type": "code",
   "execution_count": 81,
   "metadata": {},
   "outputs": [
    {
     "name": "stdout",
     "output_type": "stream",
     "text": [
      "tf.Tensor(\n",
      "[[1. 0. 0. ... 0. 0. 0.]\n",
      " [0. 0. 0. ... 0. 0. 0.]\n",
      " [1. 0. 0. ... 0. 0. 0.]\n",
      " ...\n",
      " [0. 0. 0. ... 0. 0. 0.]\n",
      " [1. 0. 0. ... 0. 0. 0.]\n",
      " [0. 0. 0. ... 0. 0. 0.]], shape=(64, 187), dtype=float64)\n"
     ]
    }
   ],
   "source": [
    "for x,y in train_dataset.take(1):\n",
    "    print(y)"
   ]
  },
  {
   "cell_type": "code",
   "execution_count": 84,
   "metadata": {},
   "outputs": [
    {
     "name": "stdout",
     "output_type": "stream",
     "text": [
      "Train for 9 steps, validate for 3 steps\n",
      "Epoch 1/50\n",
      "9/9 [==============================] - 1s 89ms/step - loss: 3.5859 - accuracy: 0.5018 - val_loss: 2.7330 - val_accuracy: 0.6496\n",
      "Epoch 2/50\n",
      "9/9 [==============================] - 0s 33ms/step - loss: 2.9317 - accuracy: 0.5607 - val_loss: 3.1179 - val_accuracy: 0.6496\n",
      "Epoch 3/50\n",
      "9/9 [==============================] - 0s 34ms/step - loss: 2.8668 - accuracy: 0.5607 - val_loss: 2.9151 - val_accuracy: 0.6496\n",
      "Epoch 4/50\n",
      "9/9 [==============================] - 0s 37ms/step - loss: 2.6779 - accuracy: 0.5607 - val_loss: 2.9388 - val_accuracy: 0.6496\n",
      "Epoch 5/50\n",
      "9/9 [==============================] - 0s 36ms/step - loss: 2.5724 - accuracy: 0.5607 - val_loss: 2.9145 - val_accuracy: 0.6496\n",
      "Epoch 6/50\n",
      "9/9 [==============================] - 0s 35ms/step - loss: 2.2681 - accuracy: 0.5625 - val_loss: 2.9996 - val_accuracy: 0.6496\n",
      "Epoch 7/50\n",
      "9/9 [==============================] - 0s 34ms/step - loss: 2.0493 - accuracy: 0.5846 - val_loss: 3.2214 - val_accuracy: 0.6350\n",
      "Epoch 8/50\n",
      "9/9 [==============================] - 0s 36ms/step - loss: 1.7802 - accuracy: 0.6140 - val_loss: 3.2859 - val_accuracy: 0.6569\n",
      "Epoch 9/50\n",
      "9/9 [==============================] - 0s 34ms/step - loss: 1.5731 - accuracy: 0.6415 - val_loss: 3.4829 - val_accuracy: 0.6715\n",
      "Epoch 10/50\n",
      "9/9 [==============================] - 0s 34ms/step - loss: 1.2814 - accuracy: 0.6673 - val_loss: 3.7544 - val_accuracy: 0.6496\n",
      "Epoch 11/50\n",
      "9/9 [==============================] - 0s 35ms/step - loss: 1.0680 - accuracy: 0.7206 - val_loss: 4.5432 - val_accuracy: 0.5620\n",
      "Epoch 12/50\n",
      "9/9 [==============================] - 0s 34ms/step - loss: 0.9042 - accuracy: 0.7555 - val_loss: 4.3586 - val_accuracy: 0.6496\n",
      "Epoch 13/50\n",
      "9/9 [==============================] - 0s 34ms/step - loss: 0.6624 - accuracy: 0.8033 - val_loss: 4.7694 - val_accuracy: 0.5912\n",
      "Epoch 14/50\n",
      "9/9 [==============================] - 0s 37ms/step - loss: 0.5475 - accuracy: 0.8180 - val_loss: 5.2154 - val_accuracy: 0.5839\n",
      "Epoch 15/50\n",
      "9/9 [==============================] - 0s 34ms/step - loss: 0.4514 - accuracy: 0.8640 - val_loss: 5.4870 - val_accuracy: 0.6131\n",
      "Epoch 16/50\n",
      "9/9 [==============================] - 0s 35ms/step - loss: 0.3552 - accuracy: 0.8842 - val_loss: 5.3623 - val_accuracy: 0.5620\n",
      "Epoch 17/50\n",
      "9/9 [==============================] - 0s 34ms/step - loss: 0.2751 - accuracy: 0.9191 - val_loss: 6.1142 - val_accuracy: 0.5985\n",
      "Epoch 18/50\n",
      "9/9 [==============================] - 0s 37ms/step - loss: 0.2456 - accuracy: 0.9393 - val_loss: 6.1018 - val_accuracy: 0.5766\n",
      "Epoch 19/50\n",
      "9/9 [==============================] - 0s 36ms/step - loss: 0.2292 - accuracy: 0.9412 - val_loss: 6.0662 - val_accuracy: 0.6131\n",
      "Epoch 20/50\n",
      "9/9 [==============================] - 0s 35ms/step - loss: 0.1474 - accuracy: 0.9632 - val_loss: 6.1147 - val_accuracy: 0.5985\n",
      "Epoch 21/50\n",
      "9/9 [==============================] - 0s 33ms/step - loss: 0.1482 - accuracy: 0.9632 - val_loss: 6.2281 - val_accuracy: 0.5985\n",
      "Epoch 22/50\n",
      "9/9 [==============================] - 0s 36ms/step - loss: 0.1260 - accuracy: 0.9724 - val_loss: 6.4135 - val_accuracy: 0.6058\n",
      "Epoch 23/50\n",
      "9/9 [==============================] - 0s 36ms/step - loss: 0.0990 - accuracy: 0.9706 - val_loss: 6.7906 - val_accuracy: 0.5839\n",
      "Epoch 24/50\n",
      "9/9 [==============================] - 0s 36ms/step - loss: 0.0843 - accuracy: 0.9724 - val_loss: 7.0275 - val_accuracy: 0.6058\n",
      "Epoch 25/50\n",
      "9/9 [==============================] - 0s 37ms/step - loss: 0.0727 - accuracy: 0.9761 - val_loss: 7.1266 - val_accuracy: 0.6058\n",
      "Epoch 26/50\n",
      "9/9 [==============================] - 0s 37ms/step - loss: 0.0945 - accuracy: 0.9798 - val_loss: 7.1083 - val_accuracy: 0.5766\n",
      "Epoch 27/50\n",
      "9/9 [==============================] - 0s 36ms/step - loss: 0.0628 - accuracy: 0.9835 - val_loss: 6.9021 - val_accuracy: 0.5693\n",
      "Epoch 28/50\n",
      "9/9 [==============================] - 0s 34ms/step - loss: 0.0679 - accuracy: 0.9761 - val_loss: 7.1652 - val_accuracy: 0.5839\n",
      "Epoch 29/50\n",
      "9/9 [==============================] - 0s 35ms/step - loss: 0.0826 - accuracy: 0.9779 - val_loss: 7.0476 - val_accuracy: 0.5693\n",
      "Epoch 30/50\n",
      "9/9 [==============================] - 0s 35ms/step - loss: 0.0626 - accuracy: 0.9835 - val_loss: 7.2258 - val_accuracy: 0.6204\n",
      "Epoch 31/50\n",
      "9/9 [==============================] - 0s 35ms/step - loss: 0.0418 - accuracy: 0.9890 - val_loss: 7.1962 - val_accuracy: 0.6058\n",
      "Epoch 32/50\n",
      "9/9 [==============================] - 0s 32ms/step - loss: 0.0503 - accuracy: 0.9853 - val_loss: 7.4187 - val_accuracy: 0.5839\n",
      "Epoch 33/50\n",
      "9/9 [==============================] - 0s 36ms/step - loss: 0.0491 - accuracy: 0.9871 - val_loss: 7.4101 - val_accuracy: 0.5985\n",
      "Epoch 34/50\n",
      "9/9 [==============================] - 0s 34ms/step - loss: 0.0448 - accuracy: 0.9871 - val_loss: 7.1293 - val_accuracy: 0.5766\n",
      "Epoch 35/50\n",
      "9/9 [==============================] - 0s 34ms/step - loss: 0.0491 - accuracy: 0.9890 - val_loss: 7.4816 - val_accuracy: 0.6131\n",
      "Epoch 36/50\n",
      "9/9 [==============================] - 0s 37ms/step - loss: 0.0340 - accuracy: 0.9871 - val_loss: 7.3650 - val_accuracy: 0.5912\n",
      "Epoch 37/50\n",
      "9/9 [==============================] - 0s 31ms/step - loss: 0.0290 - accuracy: 0.9890 - val_loss: 7.3871 - val_accuracy: 0.5985\n",
      "Epoch 38/50\n",
      "9/9 [==============================] - 0s 33ms/step - loss: 0.0343 - accuracy: 0.9853 - val_loss: 7.6955 - val_accuracy: 0.5766\n",
      "Epoch 39/50\n",
      "9/9 [==============================] - 0s 37ms/step - loss: 0.0336 - accuracy: 0.9890 - val_loss: 7.8028 - val_accuracy: 0.6204\n",
      "Epoch 40/50\n",
      "9/9 [==============================] - 0s 36ms/step - loss: 0.0460 - accuracy: 0.9890 - val_loss: 7.3304 - val_accuracy: 0.5766\n",
      "Epoch 41/50\n",
      "9/9 [==============================] - 0s 34ms/step - loss: 0.0438 - accuracy: 0.9853 - val_loss: 7.6142 - val_accuracy: 0.6058\n",
      "Epoch 42/50\n",
      "9/9 [==============================] - 0s 36ms/step - loss: 0.0443 - accuracy: 0.9890 - val_loss: 7.3544 - val_accuracy: 0.5912\n",
      "Epoch 43/50\n",
      "9/9 [==============================] - 0s 35ms/step - loss: 0.0277 - accuracy: 0.9908 - val_loss: 7.2168 - val_accuracy: 0.6131\n",
      "Epoch 44/50\n",
      "9/9 [==============================] - 0s 39ms/step - loss: 0.0263 - accuracy: 0.9908 - val_loss: 7.3460 - val_accuracy: 0.5985\n",
      "Epoch 45/50\n",
      "9/9 [==============================] - 0s 35ms/step - loss: 0.0217 - accuracy: 0.9908 - val_loss: 7.6405 - val_accuracy: 0.5985\n",
      "Epoch 46/50\n",
      "9/9 [==============================] - 0s 38ms/step - loss: 0.0264 - accuracy: 0.9890 - val_loss: 7.8215 - val_accuracy: 0.5839\n",
      "Epoch 47/50\n",
      "9/9 [==============================] - 0s 37ms/step - loss: 0.0244 - accuracy: 0.9908 - val_loss: 7.8508 - val_accuracy: 0.5912\n",
      "Epoch 48/50\n",
      "9/9 [==============================] - 0s 37ms/step - loss: 0.0297 - accuracy: 0.9871 - val_loss: 7.7864 - val_accuracy: 0.5766\n",
      "Epoch 49/50\n",
      "9/9 [==============================] - 0s 36ms/step - loss: 0.0325 - accuracy: 0.9871 - val_loss: 7.9261 - val_accuracy: 0.6058\n",
      "Epoch 50/50\n",
      "9/9 [==============================] - 0s 37ms/step - loss: 0.0329 - accuracy: 0.9908 - val_loss: 7.5064 - val_accuracy: 0.5766\n"
     ]
    }
   ],
   "source": [
    "\n",
    "model = tf.keras.models.Sequential()\n",
    "\n",
    "model.add(tf.keras.layers.Flatten(input_shape=(train.shape[1]-1,)))\n",
    "\n",
    "model.add(tf.keras.layers.Dense(units=2048, activation='relu'))\n",
    "model.add(tf.keras.layers.Dense(units=1024, activation='relu'))\n",
    "model.add(tf.keras.layers.Dense(units=512, activation='relu'))\n",
    "model.add(tf.keras.layers.Dense(units=187, activation='softmax'))\n",
    "\n",
    "model.compile(optimizer='adam',\n",
    "            loss=\"categorical_crossentropy\",\n",
    "            metrics=['accuracy'])\n",
    " \n",
    "\n",
    "history = model.fit(train_dataset, epochs=50, shuffle=True, validation_data=test_dataset)\n",
    "\n",
    "# To track the progression of training, gather a snapshot\n",
    "# of the model's metrics at each epoch. \n",
    "epochs = history.epoch\n",
    "hist = pd.DataFrame(history.history)"
   ]
  },
  {
   "cell_type": "code",
   "execution_count": null,
   "metadata": {},
   "outputs": [],
   "source": []
  },
  {
   "cell_type": "code",
   "execution_count": null,
   "metadata": {},
   "outputs": [],
   "source": []
  },
  {
   "cell_type": "code",
   "execution_count": 56,
   "metadata": {},
   "outputs": [
    {
     "data": {
      "text/plain": [
       "Index(['article_emb_0', 'article_emb_1', 'article_emb_2', 'article_emb_3',\n",
       "       'article_emb_4', 'article_emb_5', 'article_emb_6', 'article_emb_7',\n",
       "       'article_emb_8', 'article_emb_9',\n",
       "       ...\n",
       "       'user_emb762', 'user_emb763', 'user_emb764', 'user_emb765',\n",
       "       'user_emb766', 'user_emb767', 'totalClapCount', 'example_age_square',\n",
       "       'example_age', 'label'],\n",
       "      dtype='object', length=2308)"
      ]
     },
     "execution_count": 56,
     "metadata": {},
     "output_type": "execute_result"
    }
   ],
   "source": [
    "# use the embedding \n",
    "train_data.columns"
   ]
  },
  {
   "cell_type": "code",
   "execution_count": 69,
   "metadata": {},
   "outputs": [],
   "source": []
  },
  {
   "cell_type": "code",
   "execution_count": null,
   "metadata": {},
   "outputs": [],
   "source": []
  },
  {
   "cell_type": "code",
   "execution_count": null,
   "metadata": {},
   "outputs": [],
   "source": []
  },
  {
   "cell_type": "code",
   "execution_count": null,
   "metadata": {},
   "outputs": [],
   "source": []
  },
  {
   "cell_type": "code",
   "execution_count": null,
   "metadata": {},
   "outputs": [],
   "source": []
  },
  {
   "cell_type": "code",
   "execution_count": null,
   "metadata": {},
   "outputs": [],
   "source": []
  }
 ],
 "metadata": {
  "kernelspec": {
   "display_name": "Python 3",
   "language": "python",
   "name": "python3"
  },
  "language_info": {
   "codemirror_mode": {
    "name": "ipython",
    "version": 3
   },
   "file_extension": ".py",
   "mimetype": "text/x-python",
   "name": "python",
   "nbconvert_exporter": "python",
   "pygments_lexer": "ipython3",
   "version": "3.6.10"
  }
 },
 "nbformat": 4,
 "nbformat_minor": 4
}
